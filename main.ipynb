{
 "cells": [
  {
   "cell_type": "code",
   "execution_count": 45,
   "metadata": {
    "collapsed": true
   },
   "outputs": [
    {
     "name": "stdout",
     "output_type": "stream",
     "text": [
      "1896-06-03 00:00:00 to 2018-02-28 00:00:00\n"
     ]
    }
   ],
   "source": [
    "import pandas\n",
    "data = pandas.read_csv('1236627.csv')\n",
    "temps = data[data['NAME'].str.contains('REXBURG')][['DATE', 'TMAX', 'TMIN']]\n",
    "temps['DATE'] = pandas.to_datetime(temps['DATE'])\n",
    "temps['YEAR'] = temps['DATE'].dt.year\n",
    "temps['MONTH'] = temps['DATE'].dt.month\n",
    "temps['DAY'] = temps['DATE'].dt.day\n",
    "print(min(temps['DATE']), 'to', max(temps['DATE']))\n"
   ]
  },
  {
   "cell_type": "code",
   "execution_count": null,
   "metadata": {},
   "outputs": [],
   "source": [
    "\n"
   ]
  }
 ],
 "metadata": {
  "kernelspec": {
   "display_name": "Python 2",
   "language": "python",
   "name": "python2"
  },
  "language_info": {
   "codemirror_mode": {
    "name": "ipython",
    "version": 2
   },
   "file_extension": ".py",
   "mimetype": "text/x-python",
   "name": "python",
   "nbconvert_exporter": "python",
   "pygments_lexer": "ipython2",
   "version": "2.7.6"
  }
 },
 "nbformat": 4,
 "nbformat_minor": 0
}
