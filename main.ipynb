{
 "cells": [
  {
   "cell_type": "code",
   "execution_count": 23,
   "metadata": {},
   "outputs": [
    {
     "name": "stdout",
     "output_type": "stream",
     "text": [
      "             DATE  TMAX  TMIN\n0      1998-02-12  32.0  27.0\n1      1998-02-13  35.0  28.0\n2      1998-02-14  37.0  21.0\n3      1998-02-15  38.0  32.0\n4      1998-02-16  35.0  24.0\n5      1998-02-17  35.0  19.0\n6      1998-02-18  33.0  20.0\n7      1998-02-19  35.0  19.0\n8      1998-02-20  35.0  14.0\n9      1998-02-21  40.0  22.0\n10     1998-02-22  35.0  21.0\n11     1998-02-23  33.0  20.0\n12     1998-02-24  32.0  23.0\n13     1998-02-25  31.0   8.0\n14     1998-02-26  28.0   8.0\n15     1998-02-27  26.0   2.0\n16     1998-02-28  23.0  -3.0\n17     1998-03-01  30.0  16.0\n18     1998-03-02  36.0  20.0\n19     1998-03-03  34.0  24.0\n20     1998-03-04  30.0  14.0\n21     1998-03-05  26.0  12.0\n22     1998-03-06  25.0  18.0\n23     1998-03-07  23.0   0.0\n24     1998-03-08  23.0  -3.0\n25     1998-03-09  28.0   8.0\n26     1998-03-10  36.0  22.0\n27     1998-03-11  43.0  24.0\n28     1998-03-12  41.0  17.0\n29     1998-03-13  43.0  17.0\n...           ...   ...   ...\n36579  1977-05-02   NaN   NaN\n36580  1977-05-03   NaN   NaN\n36581  1977-05-04   NaN   NaN\n36582  1977-05-05   NaN   NaN\n36583  1977-05-06   NaN   NaN\n36584  1977-05-07   NaN   NaN\n36585  1977-05-08   NaN   NaN\n36586  1977-05-09   NaN   NaN\n36587  1977-05-10   NaN   NaN\n36588  1977-05-11   NaN   NaN\n36589  1977-05-12   NaN   NaN\n36590  1977-05-13   NaN   NaN\n36591  1977-05-14   NaN   NaN\n36592  1977-05-15   NaN   NaN\n36593  1977-05-16   NaN   NaN\n36594  1977-05-17   NaN   NaN\n36595  1977-05-18   NaN   NaN\n36596  1977-05-19   NaN   NaN\n36597  1977-05-20   NaN   NaN\n36598  1977-05-21   NaN   NaN\n36599  1977-05-22   NaN   NaN\n36600  1977-05-23   NaN   NaN\n36601  1977-05-24   NaN   NaN\n36602  1977-05-25   NaN   NaN\n36603  1977-05-26   NaN   NaN\n36604  1977-05-27   NaN   NaN\n36605  1977-05-28   NaN   NaN\n36606  1977-05-29   NaN   NaN\n36607  1977-05-30   NaN   NaN\n36608  1977-05-31   NaN   NaN\n\n[28124 rows x 3 columns]\n"
     ]
    }
   ],
   "source": [
    "import pandas\n",
    "data = pandas.read_csv('1236627.csv')\n",
    "temps = data[data['NAME'].str.contains('REXBURG')][['DATE', 'TMAX', 'TMIN']]\n",
    "print(temps)"
   ]
  },
  {
   "cell_type": "code",
   "execution_count": 25,
   "metadata": {},
   "outputs": [],
   "source": []
  },
  {
   "cell_type": "code",
   "execution_count": 25,
   "metadata": {},
   "outputs": [],
   "source": []
  },
  {
   "cell_type": "code",
   "execution_count": null,
   "metadata": {},
   "outputs": [],
   "source": []
  }
 ],
 "metadata": {
  "kernelspec": {
   "display_name": "Python 2",
   "language": "python",
   "name": "python2"
  },
  "language_info": {
   "codemirror_mode": {
    "name": "ipython",
    "version": 2
   },
   "file_extension": ".py",
   "mimetype": "text/x-python",
   "name": "python",
   "nbconvert_exporter": "python",
   "pygments_lexer": "ipython2",
   "version": "2.7.6"
  }
 },
 "nbformat": 4,
 "nbformat_minor": 0
}
