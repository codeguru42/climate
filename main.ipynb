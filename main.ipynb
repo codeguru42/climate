{
 "cells": [
  {
   "cell_type": "code",
   "execution_count": 55,
   "metadata": {
    "collapsed": true
   },
   "outputs": [
    {
     "name": "stdout",
     "output_type": "stream",
     "text": [
      "1896-06-03 to 2018-02-28\n"
     ]
    }
   ],
   "source": [
    "import pandas\n",
    "data = pandas.read_csv('1236627.csv')\n",
    "temps = data[data['NAME'].str.contains('REXBURG')][['DATE', 'TMAX', 'TMIN']]\n",
    "temps['DATE'] = pandas.to_datetime(temps['DATE'])\n",
    "temps['YEAR'] = temps['DATE'].dt.year\n",
    "temps['MONTH'] = temps['DATE'].dt.month\n",
    "temps['DAY'] = temps['DATE'].dt.day\n",
    "print(temps['DATE'].min().date(), 'to', temps['DATE'].max().date())\n"
   ]
  },
  {
   "cell_type": "code",
   "execution_count": 51,
   "metadata": {},
   "outputs": [
    {
     "name": "stdout",
     "output_type": "stream",
     "text": [
      "MONTH  DAY\n1      1      -7.0\n       2      -2.0\n       3       8.0\n       4       9.0\n       5       3.0\n       6       4.0\n       7       4.0\n       8      10.0\n       9       6.0\n       10     12.0\n       11     11.0\n       12      5.0\n       13      1.0\n       14      0.0\n       15      8.0\n       16      8.0\n       17     10.0\n       18      4.0\n       19     -1.0\n       20      5.0\n       21      9.0\n       22      5.0\n       23     10.0\n       24      2.0\n       25      5.0\n       26      4.0\n       27      8.0\n       28      8.0\n       29      9.0\n       30      4.0\n              ... \n12     2      16.0\n       3      14.0\n       4       6.0\n       5       5.0\n       6       0.0\n       7       7.0\n       8       1.0\n       9       5.0\n       10      5.0\n       11      6.0\n       12     10.0\n       13      9.0\n       14      8.0\n       15      7.0\n       16      8.0\n       17      4.0\n       18    -19.0\n       19      7.0\n       20      1.0\n       21     -6.0\n       22     -4.0\n       23     -9.0\n       24     -7.0\n       25      5.0\n       26      4.0\n       27      5.0\n       28     10.0\n       29     10.0\n       30     -2.0\n       31      3.0\nName: TMAX, Length: 366, dtype: float64\n"
     ]
    }
   ],
   "source": [
    "\n",
    "day_groups = temps.groupby(['MONTH', 'DAY'])\n",
    "min_high_temps = day_groups['TMAX'].min() \n",
    "print(min_high_temps)"
   ]
  },
  {
   "cell_type": "code",
   "execution_count": 52,
   "metadata": {},
   "outputs": [
    {
     "name": "stdout",
     "output_type": "stream",
     "text": [
      "MONTH  DAY\n1      1      31.0\n       2      31.0\n       3      31.0\n       4      32.0\n       5      32.0\n       6      34.0\n       7      33.0\n       8      33.0\n       9      33.0\n       10     38.0\n       11     33.0\n       12     32.0\n       13     32.0\n       14     33.0\n       15     34.0\n       16     32.0\n       17     31.0\n       18     30.0\n       19     33.0\n       20     34.0\n       21     34.0\n       22     33.0\n       23     31.0\n       24     31.0\n       25     31.0\n       26     33.0\n       27     37.0\n       28     32.0\n       29     33.0\n       30     37.0\n              ... \n12     2      33.0\n       3      36.0\n       4      35.0\n       5      39.0\n       6      34.0\n       7      33.0\n       8      37.0\n       9      32.0\n       10     32.0\n       11     38.0\n       12     36.0\n       13     34.0\n       14     33.0\n       15     36.0\n       16     33.0\n       17     32.0\n       18     26.0\n       19     31.0\n       20     32.0\n       21     32.0\n       22     37.0\n       23     39.0\n       24     32.0\n       25     30.0\n       26     32.0\n       27     32.0\n       28     34.0\n       29     38.0\n       30     37.0\n       31     36.0\nName: TMIN, Length: 366, dtype: float64\n"
     ]
    }
   ],
   "source": [
    "max_low_temps = day_groups['TMIN'].max()\n",
    "print(max_low_temps)"
   ]
  },
  {
   "cell_type": "code",
   "execution_count": null,
   "metadata": {},
   "outputs": [],
   "source": []
  }
 ],
 "metadata": {
  "kernelspec": {
   "display_name": "Python 2",
   "language": "python",
   "name": "python2"
  },
  "language_info": {
   "codemirror_mode": {
    "name": "ipython",
    "version": 2
   },
   "file_extension": ".py",
   "mimetype": "text/x-python",
   "name": "python",
   "nbconvert_exporter": "python",
   "pygments_lexer": "ipython2",
   "version": "2.7.6"
  }
 },
 "nbformat": 4,
 "nbformat_minor": 0
}
